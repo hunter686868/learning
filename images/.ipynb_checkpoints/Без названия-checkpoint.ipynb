{
 "cells": [
  {
   "cell_type": "code",
   "execution_count": 1,
   "id": "6e8cb7c7",
   "metadata": {},
   "outputs": [],
   "source": [
    "import os\n",
    "from PIL import Image, ImageDraw, ImageColor, ImageFont"
   ]
  },
  {
   "cell_type": "code",
   "execution_count": 2,
   "id": "316b6e3d",
   "metadata": {},
   "outputs": [],
   "source": [
    "def img_chng(ext_1, ext_2):\n",
    "    curr_path = os.getcwd()\n",
    "    files = os.listdir(curr_path)\n",
    "    for i in files:\n",
    "        filename, file_extension = os.path.splitext(i)\n",
    "        if file_extension == ext_1:\n",
    "            im = Image.open(i)\n",
    "            im.save(f'{filename}{ext_2}')\n",
    "            os.remove(i)"
   ]
  },
  {
   "cell_type": "code",
   "execution_count": 3,
   "id": "2082e969",
   "metadata": {},
   "outputs": [],
   "source": [
    "def img_chng_draw(ext_1, ext_2):\n",
    "    curr_path = os.getcwd()\n",
    "    files = os.listdir(curr_path)\n",
    "    for i in files:\n",
    "        filename, file_extension = os.path.splitext(i)\n",
    "        if file_extension == ext_1:\n",
    "            im = Image.open(i)\n",
    "            draw = ImageDraw.Draw(im)\n",
    "            font = ImageFont.load_default()\n",
    "            sz = im.size\n",
    "            x_min = sz[0]/2 - 100\n",
    "            y_max = sz[1]/2 - 100\n",
    "            x_max = sz[0]/2 + 100\n",
    "            y_min = sz[1]/2 + 100\n",
    "            draw.rectangle([x_min, y_max, x_max, y_min])\n",
    "            font = ImageFont.load_default().font_variant(size=20)\n",
    "            text_x = sz[0]/2 - 20\n",
    "            text_y = sz[1]/2 - 20\n",
    "            draw.multiline_text((text_x, text_y), 'Hello,\\nWorld!', font = font)\n",
    "            im.save(f'{filename}{ext_2}')\n",
    "            del draw\n",
    "            os.remove(i)\n",
    "            im.show()"
   ]
  },
  {
   "cell_type": "code",
   "execution_count": 4,
   "id": "4e178a18",
   "metadata": {},
   "outputs": [],
   "source": [
    "img_chng('.jpeg', '.bmp')"
   ]
  },
  {
   "cell_type": "code",
   "execution_count": 5,
   "id": "326e784a",
   "metadata": {},
   "outputs": [],
   "source": [
    "img_chng_draw('.bmp', '.jpeg')"
   ]
  },
  {
   "cell_type": "code",
   "execution_count": null,
   "id": "ef930e47",
   "metadata": {},
   "outputs": [],
   "source": []
  }
 ],
 "metadata": {
  "kernelspec": {
   "display_name": "Python 3 (ipykernel)",
   "language": "python",
   "name": "python3"
  },
  "language_info": {
   "codemirror_mode": {
    "name": "ipython",
    "version": 3
   },
   "file_extension": ".py",
   "mimetype": "text/x-python",
   "name": "python",
   "nbconvert_exporter": "python",
   "pygments_lexer": "ipython3",
   "version": "3.9.13"
  },
  "toc": {
   "base_numbering": 1,
   "nav_menu": {},
   "number_sections": true,
   "sideBar": true,
   "skip_h1_title": false,
   "title_cell": "Table of Contents",
   "title_sidebar": "Contents",
   "toc_cell": false,
   "toc_position": {},
   "toc_section_display": true,
   "toc_window_display": false
  }
 },
 "nbformat": 4,
 "nbformat_minor": 5
}
